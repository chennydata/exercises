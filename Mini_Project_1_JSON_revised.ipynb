{
 "cells": [
  {
   "cell_type": "markdown",
   "metadata": {},
   "source": [
    "## imports for Python, Pandas, etc."
   ]
  },
  {
   "cell_type": "code",
   "execution_count": 1,
   "metadata": {},
   "outputs": [],
   "source": [
    "import pandas as pd\n",
    "import json\n",
    "from pandas.io.json import json_normalize\n",
    "import operator\n",
    "import itertools\n",
    "import seaborn as sns"
   ]
  },
  {
   "cell_type": "markdown",
   "metadata": {},
   "source": [
    "****\n",
    "## JSON exercise\n",
    "\n",
    "Using data in file 'data/world_bank_projects.json' and the techniques demonstrated above,\n",
    "1. Find the 10 countries with most projects\n",
    "2. Find the top 10 major project themes (using column 'mjtheme_namecode')\n",
    "3. In 2. above you will notice that some entries have only the code and the name is missing. Create a dataframe with the missing names filled in."
   ]
  },
  {
   "cell_type": "markdown",
   "metadata": {},
   "source": [
    "# 1. Find the 10 countries with most projects.\n",
    "+ First, I loaded the jason file onto Python then used pandas to convert it to a DataFrame.\n",
    "+ To find out top 10 countries with most projects, I checked out column names and looked for the one I needed to use. The column \"countryname\" is the one we need.\n",
    "+ Then I used for loop to count them\n",
    "+ So the top 10 countries are: (\"People's Republic of China\", 19), ('Republic of Indonesia', 19), ('Socialist Republic of Vietnam', 17), ('Republic of India', 16), ('Republic of Yemen', 13), ('Kingdom of Morocco', 12), ('Nepal', 12), (\"People's Republic of Bangladesh\", 12), ('Republic of Mozambique', 11), ('Africa', 11).\n",
    "+ Each tuple contains country name and number of projects with People's of Republic of China having the most projects.\n",
    "+ The code is provided below."
   ]
  },
  {
   "cell_type": "code",
   "execution_count": 2,
   "metadata": {},
   "outputs": [
    {
     "name": "stdout",
     "output_type": "stream",
     "text": [
      "(500, 50)\n",
      "Index(['_id', 'approvalfy', 'board_approval_month', 'boardapprovaldate',\n",
      "       'borrower', 'closingdate', 'country_namecode', 'countrycode',\n",
      "       'countryname', 'countryshortname', 'docty', 'envassesmentcategorycode',\n",
      "       'grantamt', 'ibrdcommamt', 'id', 'idacommamt', 'impagency',\n",
      "       'lendinginstr', 'lendinginstrtype', 'lendprojectcost',\n",
      "       'majorsector_percent', 'mjsector_namecode', 'mjtheme',\n",
      "       'mjtheme_namecode', 'mjthemecode', 'prodline', 'prodlinetext',\n",
      "       'productlinetype', 'project_abstract', 'project_name', 'projectdocs',\n",
      "       'projectfinancialtype', 'projectstatusdisplay', 'regionname', 'sector',\n",
      "       'sector1', 'sector2', 'sector3', 'sector4', 'sector_namecode',\n",
      "       'sectorcode', 'source', 'status', 'supplementprojectflg', 'theme1',\n",
      "       'theme_namecode', 'themecode', 'totalamt', 'totalcommamt', 'url'],\n",
      "      dtype='object')\n",
      "[(\"People's Republic of China\", 19), ('Republic of Indonesia', 19), ('Socialist Republic of Vietnam', 17), ('Republic of India', 16), ('Republic of Yemen', 13), ('Kingdom of Morocco', 12), ('Nepal', 12), (\"People's Republic of Bangladesh\", 12), ('Republic of Mozambique', 11), ('Africa', 11)]\n"
     ]
    }
   ],
   "source": [
    "json_df = pd.read_json('Desktop/data_wrangling_json/data_wrangling_json/data/world_bank_projects.json')\n",
    "print(json_df.shape)\n",
    "print(json_df.columns) #find countryname to use\n",
    "\n",
    "country_count = {}\n",
    "country_list = list(json_df['countryname'])\n",
    "\n",
    "for country in country_list:\n",
    "    if country in country_count:\n",
    "        country_count[country] += 1\n",
    "    else:\n",
    "        country_count[country] = 1\n",
    "\n",
    "sorted_country = sorted(country_count.items(), key=operator.itemgetter(1), reverse=True)\n",
    "print(sorted_country[:10])"
   ]
  },
  {
   "cell_type": "markdown",
   "metadata": {},
   "source": [
    "# 2. Find the top 10 major project themes (mjtheme_namecode column).\n",
    "+ First, I also converted the column into a list. Since, there are multiple lists in the list, I created another clean list by using extend method.\n",
    "+ Then I used for loop to count the themes. Here I used the keyword \"code\" instead of \"name\" because there are missing values in \"name\".\n",
    "+ The top 10 themes are: ('11', 250), ('10', 216), ('8', 210), ('2', 199), ('6', 168), ('4', 146), ('7', 130), ('5', 77), ('9', 50), ('1', 38). Each tuple contains theme code and number of counts.\n",
    "+ According to the result, code 11 theme is the most popular with 250 projects.\n",
    "+ You can see the code names in the questions below."
   ]
  },
  {
   "cell_type": "code",
   "execution_count": 3,
   "metadata": {},
   "outputs": [
    {
     "name": "stdout",
     "output_type": "stream",
     "text": [
      "0    [{'code': '8', 'name': 'Human development'}, {...\n",
      "1    [{'code': '1', 'name': 'Economic management'},...\n",
      "2    [{'code': '5', 'name': 'Trade and integration'...\n",
      "3    [{'code': '7', 'name': 'Social dev/gender/incl...\n",
      "4    [{'code': '5', 'name': 'Trade and integration'...\n",
      "5    [{'code': '6', 'name': 'Social protection and ...\n",
      "6    [{'code': '2', 'name': 'Public sector governan...\n",
      "7    [{'code': '11', 'name': 'Environment and natur...\n",
      "8    [{'code': '10', 'name': 'Rural development'}, ...\n",
      "9    [{'code': '2', 'name': 'Public sector governan...\n",
      "Name: mjtheme_namecode, dtype: object\n",
      "[('11', 250), ('10', 216), ('8', 210), ('2', 199), ('6', 168), ('4', 146), ('7', 130), ('5', 77), ('9', 50), ('1', 38)]\n"
     ]
    }
   ],
   "source": [
    "print(json_df['mjtheme_namecode'].head(10))\n",
    "\n",
    "mjtheme_list = list(json_df['mjtheme_namecode'])\n",
    "mjtheme_list_clean = []\n",
    "\n",
    "for entry in mjtheme_list:\n",
    "    mjtheme_list_clean.extend(entry)\n",
    "    \n",
    "theme_count = {}\n",
    "for i in range(len(mjtheme_list_clean)):\n",
    "    if mjtheme_list_clean[i]['code'] in theme_count:\n",
    "        theme_count[mjtheme_list_clean[i]['code']] += 1\n",
    "    else:\n",
    "        theme_count[mjtheme_list_clean[i]['code']] =1\n",
    "\n",
    "sorted_theme = sorted(theme_count.items(), key=operator.itemgetter(1), reverse=True)\n",
    "print(sorted_theme[:10])"
   ]
  },
  {
   "cell_type": "markdown",
   "metadata": {},
   "source": [
    "# 3. Create a dataframe with the missing names filled in name.\n",
    "+ First, I used json.load to read this json file as a text.\n",
    "+ Then I used json_normalize function to create a DataFrame with two columns: code and name.\n",
    "+ We can see that there are missing values in name.\n",
    "+ I figured out what each code stands for and used for loop to replace any missing value with its corresponding name\n",
    "+ Please see the DataFrame below."
   ]
  },
  {
   "cell_type": "code",
   "execution_count": 4,
   "metadata": {},
   "outputs": [
    {
     "name": "stdout",
     "output_type": "stream",
     "text": [
      "  code                                   name\n",
      "0    8                      Human development\n",
      "1   11                                       \n",
      "2    1                    Economic management\n",
      "3    6  Social protection and risk management\n",
      "4    5                  Trade and integration\n",
      "(1499, 2)\n",
      "  code                 name\n",
      "2    1  Economic management\n",
      "  code                      name\n",
      "5    2  Public sector governance\n",
      "    code         name\n",
      "252    3  Rule of law\n",
      "   code                                      name\n",
      "11    4  Financial and private sector development\n",
      "  code                   name\n",
      "4    5  Trade and integration\n",
      "  code                                   name\n",
      "3    6  Social protection and risk management\n",
      "  code                         name\n",
      "8    7  Social dev/gender/inclusion\n",
      "  code               name\n",
      "0    8  Human development\n",
      "   code               name\n",
      "53    9  Urban development\n",
      "   code               name\n",
      "18   10  Rural development\n",
      "  code                                          name\n",
      "1   11                                              \n",
      "6   11  Environment and natural resources management\n",
      "  code                                          name\n",
      "0    8                             Human development\n",
      "1   11  Environment and natural resources management\n",
      "2    1                           Economic management\n",
      "3    6         Social protection and risk management\n",
      "4    5                         Trade and integration\n",
      "5    2                      Public sector governance\n",
      "6   11  Environment and natural resources management\n",
      "7    6         Social protection and risk management\n",
      "8    7                   Social dev/gender/inclusion\n",
      "9    7                   Social dev/gender/inclusion\n"
     ]
    }
   ],
   "source": [
    "json_data = json.load(open('Desktop/data_wrangling_json/data_wrangling_json/data/world_bank_projects.json'))\n",
    "theme_df = json_normalize(json_data, 'mjtheme_namecode')\n",
    "print(theme_df.head())\n",
    "print(theme_df.shape)\n",
    "\n",
    "new_theme = theme_df\n",
    "\n",
    "print(theme_df.loc[theme_df['code'] == '1'].head(1))\n",
    "print(theme_df.loc[theme_df['code'] == '2'].head(1))\n",
    "print(theme_df.loc[theme_df['code'] == '3'].head(1))\n",
    "print(theme_df.loc[theme_df['code'] == '4'].head(1))\n",
    "print(theme_df.loc[theme_df['code'] == '5'].head(1))\n",
    "print(theme_df.loc[theme_df['code'] == '6'].head(1))\n",
    "print(theme_df.loc[theme_df['code'] == '7'].head(1))\n",
    "print(theme_df.loc[theme_df['code'] == '8'].head(1))\n",
    "print(theme_df.loc[theme_df['code'] == '9'].head(1))\n",
    "print(theme_df.loc[theme_df['code'] == '10'].head(1))\n",
    "print(theme_df.loc[theme_df['code'] == '11'].head(2))\n",
    "\n",
    "for i in range(1499):\n",
    "    if new_theme.code.iloc[i] == '1':\n",
    "        new_theme.name[i] = 'Economic management'\n",
    "    elif new_theme.code.iloc[i] == '2':\n",
    "        new_theme.name[i] = 'Public sector governance'\n",
    "    elif new_theme.code.iloc[i] == '3':\n",
    "        new_theme.name[i] = 'Rule of law'\n",
    "    elif new_theme.code.iloc[i] == '4':\n",
    "        new_theme.name[i] = 'Financial and private sector development'\n",
    "    elif new_theme.code.iloc[i] == '5':\n",
    "        new_theme.name[i] = 'Trade and integration'\n",
    "    elif new_theme.code.iloc[i] == '6':\n",
    "        new_theme.name[i] = 'Social protection and risk management'\n",
    "    elif new_theme.code.iloc[i] == '7':\n",
    "        new_theme.name[i] = 'Social dev/gender/inclusion'\n",
    "    elif new_theme.code.iloc[i] == '8':\n",
    "        new_theme.name[i] = 'Human development'\n",
    "    elif new_theme.code.iloc[i] == '9':\n",
    "        new_theme.name[i] = 'Urban development'\n",
    "    elif new_theme.code.iloc[i] == '10':\n",
    "        new_theme.name[i] = 'Rural development'\n",
    "    elif new_theme.code.iloc[i] == '11':\n",
    "        new_theme.name[i] = 'Environment and natural resources management'\n",
    "        \n",
    "print(new_theme.head(10))\n",
    "\n"
   ]
  },
  {
   "cell_type": "markdown",
   "metadata": {},
   "source": [
    "# Revision to 1.\n",
    "- This time, instead of writing loops, I used .value_counts() and it yields the same results"
   ]
  },
  {
   "cell_type": "code",
   "execution_count": 10,
   "metadata": {},
   "outputs": [
    {
     "data": {
      "text/plain": [
       "Republic of Indonesia              19\n",
       "People's Republic of China         19\n",
       "Socialist Republic of Vietnam      17\n",
       "Republic of India                  16\n",
       "Republic of Yemen                  13\n",
       "People's Republic of Bangladesh    12\n",
       "Nepal                              12\n",
       "Kingdom of Morocco                 12\n",
       "Republic of Mozambique             11\n",
       "Africa                             11\n",
       "Name: countryname, dtype: int64"
      ]
     },
     "execution_count": 10,
     "metadata": {},
     "output_type": "execute_result"
    }
   ],
   "source": [
    "json_df['countryname'].value_counts()[:10]"
   ]
  },
  {
   "cell_type": "markdown",
   "metadata": {},
   "source": [
    "# Revision to 2.\n",
    "- This time, instead of writing loops, I once again use .value_counts(). Since there are dicts nested in that column, we must reolad the json file using normalize.\n",
    "- To compare the corresponding theme names, we can find them above listed already.\n",
    "- And it yields the same results as well."
   ]
  },
  {
   "cell_type": "code",
   "execution_count": 17,
   "metadata": {},
   "outputs": [
    {
     "name": "stdout",
     "output_type": "stream",
     "text": [
      "  code                                   name\n",
      "0    8                      Human development\n",
      "1   11                                       \n",
      "2    1                    Economic management\n",
      "3    6  Social protection and risk management\n",
      "4    5                  Trade and integration\n"
     ]
    },
    {
     "data": {
      "text/plain": [
       "11    250\n",
       "10    216\n",
       "8     210\n",
       "2     199\n",
       "6     168\n",
       "4     146\n",
       "7     130\n",
       "5      77\n",
       "9      50\n",
       "1      38\n",
       "Name: code, dtype: int64"
      ]
     },
     "execution_count": 17,
     "metadata": {},
     "output_type": "execute_result"
    }
   ],
   "source": [
    "themes = json_normalize(json_data, 'mjtheme_namecode')\n",
    "print(themes.head())\n",
    "themes['code'].value_counts()[:10]"
   ]
  }
 ],
 "metadata": {
  "kernelspec": {
   "display_name": "Python 3",
   "language": "python",
   "name": "python3"
  },
  "language_info": {
   "codemirror_mode": {
    "name": "ipython",
    "version": 3
   },
   "file_extension": ".py",
   "mimetype": "text/x-python",
   "name": "python",
   "nbconvert_exporter": "python",
   "pygments_lexer": "ipython3",
   "version": "3.6.5"
  }
 },
 "nbformat": 4,
 "nbformat_minor": 1
}
