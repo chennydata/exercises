{
 "cells": [
  {
   "cell_type": "markdown",
   "metadata": {},
   "source": [
    "# What is the True Normal Human Body Temperature? \n",
    "\n",
    "#### Background\n",
    "\n",
    "The mean normal body temperature was held to be 37$^{\\circ}$C or 98.6$^{\\circ}$F for more than 120 years since it was first conceptualized and reported by Carl Wunderlich in a famous 1868 book. But, is this value statistically correct?"
   ]
  },
  {
   "cell_type": "markdown",
   "metadata": {},
   "source": [
    "<h3>Exercises</h3>\n",
    "\n",
    "<p>In this exercise, you will analyze a dataset of human body temperatures and employ the concepts of hypothesis testing, confidence intervals, and statistical significance.</p>\n",
    "\n",
    "<p>Answer the following questions <b>in this notebook below and submit to your Github account</b>.</p> \n",
    "\n",
    "<ol>\n",
    "<li>  Is the distribution of body temperatures normal? \n",
    "    <ul>\n",
    "    <li> Although this is not a requirement for the Central Limit Theorem to hold (read the introduction on Wikipedia's page about the CLT carefully: https://en.wikipedia.org/wiki/Central_limit_theorem), it gives us some peace of mind that the population may also be normally distributed if we assume that this sample is representative of the population.\n",
    "    <li> Think about the way you're going to check for the normality of the distribution. Graphical methods are usually used first, but there are also other ways: https://en.wikipedia.org/wiki/Normality_test\n",
    "    </ul>\n",
    "<li>  Is the sample size large? Are the observations independent?\n",
    "    <ul>\n",
    "    <li> Remember that this is a condition for the Central Limit Theorem, and hence the statistical tests we are using, to apply.\n",
    "    </ul>\n",
    "<li>  Is the true population mean really 98.6 degrees F?\n",
    "    <ul>\n",
    "    <li> First, try a bootstrap hypothesis test.\n",
    "    <li> Now, let's try frequentist statistical testing. Would you use a one-sample or two-sample test? Why?\n",
    "    <li> In this situation, is it appropriate to use the $t$ or $z$ statistic? \n",
    "    <li> Now try using the other test. How is the result be different? Why?\n",
    "    </ul>\n",
    "<li>  Draw a small sample of size 10 from the data and repeat both frequentist tests. \n",
    "    <ul>\n",
    "    <li> Which one is the correct one to use? \n",
    "    <li> What do you notice? What does this tell you about the difference in application of the $t$ and $z$ statistic?\n",
    "    </ul>\n",
    "<li>  At what temperature should we consider someone's temperature to be \"abnormal\"?\n",
    "    <ul>\n",
    "    <li> As in the previous example, try calculating everything using the boostrap approach, as well as the frequentist approach.\n",
    "    <li> Start by computing the margin of error and confidence interval. When calculating the confidence interval, keep in mind that you should use the appropriate formula for one draw, and not N draws.\n",
    "    </ul>\n",
    "<li>  Is there a significant difference between males and females in normal temperature?\n",
    "    <ul>\n",
    "    <li> What testing approach did you use and why?\n",
    "    <li> Write a story with your conclusion in the context of the original problem.\n",
    "    </ul>\n",
    "</ol>\n",
    "\n",
    "You can include written notes in notebook cells using Markdown: \n",
    "   - In the control panel at the top, choose Cell > Cell Type > Markdown\n",
    "   - Markdown syntax: http://nestacms.com/docs/creating-content/markdown-cheat-sheet\n",
    "\n",
    "#### Resources\n",
    "\n",
    "+ Information and data sources: http://www.amstat.org/publications/jse/datasets/normtemp.txt, http://www.amstat.org/publications/jse/jse_data_archive.htm\n",
    "+ Markdown syntax: http://nestacms.com/docs/creating-content/markdown-cheat-sheet\n",
    "\n",
    "****"
   ]
  },
  {
   "cell_type": "code",
   "execution_count": 34,
   "metadata": {},
   "outputs": [],
   "source": [
    "# import necessary packages\n",
    "import pandas as pd                      \n",
    "import matplotlib.pyplot as plt\n",
    "import seaborn as sns\n",
    "import numpy as np\n",
    "df = pd.read_csv('Desktop/1520467485_dsc_human_temp/EDA_human_temperature/data/human_body_temperature.csv')\n",
    "\n",
    "temperature=df['temperature']\n",
    "gender=df['gender']\n",
    "heart_rate=df['heart_rate']\n",
    "\n",
    "# functions used in this notebook\n",
    "\n",
    "def ecdf(data):\n",
    "    \"\"\"Compute ECDF for a one-dimensional array of measurements.\"\"\"\n",
    "    # Number of data points: n\n",
    "    n = len(data)\n",
    "\n",
    "    # x-data for the ECDF: x\n",
    "    x = np.sort(data)\n",
    "\n",
    "    # y-data for the ECDF: y\n",
    "    y = np.arange(1, n+1) / n\n",
    "\n",
    "    return x, y\n",
    "\n",
    "temperature=df['temperature']\n",
    "gender=df['gender']\n",
    "heart_rate=df['heart_rate']\n",
    "\n",
    "def bootstrap_replicate_1d(data, func):\n",
    "    return func(np.random.choice(data, size=len(data)))\n",
    "\n",
    "def draw_bs_reps(data, func, size=1): #1D case, func is statistics of interest i.e. np.mean, np.std\n",
    "    \"\"\"Draw bootstrap replicates.\"\"\"\n",
    "\n",
    "    # Initialize array of replicates: bs_replicates\n",
    "    bs_replicates = np.empty(size)\n",
    "\n",
    "    # Generate replicates\n",
    "    for i in range(size):\n",
    "        bs_replicates[i] = bootstrap_replicate_1d(data, func)\n",
    "\n",
    "    return bs_replicates\n",
    "\n",
    "def draw_bs_pairs_linreg(x, y, size=1):\n",
    "    \"\"\"Perform pairs bootstrap for linear regression.\"\"\"\n",
    "\n",
    "    # Set up array of indices to sample from: inds\n",
    "    inds = np.arange(len(x))\n",
    "\n",
    "    # Initialize replicates: bs_slope_reps, bs_intercept_reps\n",
    "    bs_slope_reps = np.empty(size)\n",
    "    bs_intercept_reps = np.empty(size)\n",
    "\n",
    "    # Generate replicates\n",
    "    for i in range(size):\n",
    "        bs_inds = np.random.choice(inds, size=len(inds))\n",
    "        bs_x, bs_y = x[bs_inds], y[bs_inds]\n",
    "        bs_slope_reps[i], bs_intercept_reps[i] = np.polyfit(bs_x,bs_y,1)\n",
    "\n",
    "    return bs_slope_reps, bs_intercept_reps\n",
    "\n",
    "def pearson_r(x, y):\n",
    "    \"\"\"Compute Pearson correlation coefficient between two arrays.\"\"\"\n",
    "    # Compute correlation matrix: corr_mat\n",
    "    corr_mat = np.corrcoef(x,y)\n",
    "\n",
    "    # Return entry [0,1]\n",
    "    return corr_mat[0,1]"
   ]
  },
  {
   "cell_type": "code",
   "execution_count": 5,
   "metadata": {},
   "outputs": [],
   "source": [
    "# Your work here."
   ]
  },
  {
   "cell_type": "code",
   "execution_count": 23,
   "metadata": {},
   "outputs": [
    {
     "name": "stdout",
     "output_type": "stream",
     "text": [
      "(130, 3)\n",
      "100.8\n",
      "96.3\n",
      "count    130.000000\n",
      "mean      98.249231\n",
      "std        0.733183\n",
      "min       96.300000\n",
      "25%       97.800000\n",
      "50%       98.300000\n",
      "75%       98.700000\n",
      "max      100.800000\n",
      "Name: temperature, dtype: float64\n"
     ]
    },
    {
     "data": {
      "image/png": "[encoded data removed]",
      "text/plain": [
       "<Figure size 432x288 with 1 Axes>"
      ]
     },
     "metadata": {},
     "output_type": "display_data"
    },
    {
     "data": {
      "image/png": "[encoded data removed]",
      "text/plain": [
       "<Figure size 432x288 with 1 Axes>"
      ]
     },
     "metadata": {},
     "output_type": "display_data"
    }
   ],
   "source": [
    "print(df.shape)\n",
    "print(df['temperature'].max())   #check if there is any outlier\n",
    "print(df['temperature'].min()) #seems like the temperature is quite normal in this data set\n",
    "print(df['temperature'].describe())\n",
    "\n",
    "_=plt.hist(df['temperature'], bins=int(np.sqrt(len(df.temperature)))) #NO. of bins are chosen to be sqrt(len(df.temperature))\n",
    "_=plt.xlabel('temperature')\n",
    "plt.show()\n",
    "\n",
    "theor_norm=np.random.normal(np.mean(df['temperature']), np.std(df['temperature']), len(df['temperature']))\n",
    "x_act, y_act = ecdf(temperature)\n",
    "x_theor, y_theor = ecdf(theor_norm)\n",
    "\n",
    "_=plt.plot(x_act, y_act, marker='.', linestyle='none', color='blue')\n",
    "_=plt.plot(x_theor, y_theor, color='red')\n",
    "_=plt.xlabel('temperature')\n",
    "_=plt.ylabel('culmulative density function')\n",
    "\n",
    "plt.show()\n",
    "# After plotting CDF, we see that it's actually normally distribute.\n",
    "# On the second graph, the blue dots are the actually temperature and red line is the thoeretical normally distributed\n",
    "# temperature that we simulated"
   ]
  },
  {
   "cell_type": "code",
   "execution_count": 43,
   "metadata": {},
   "outputs": [
    {
     "name": "stdout",
     "output_type": "stream",
     "text": [
      "count    65.000000\n",
      "mean     98.104615\n",
      "std       0.698756\n",
      "min      96.300000\n",
      "25%      97.600000\n",
      "50%      98.100000\n",
      "75%      98.600000\n",
      "max      99.500000\n",
      "Name: temperature, dtype: float64\n",
      "count     65.000000\n",
      "mean      98.393846\n",
      "std        0.743488\n",
      "min       96.400000\n",
      "25%       98.000000\n",
      "50%       98.400000\n",
      "75%       98.800000\n",
      "max      100.800000\n",
      "Name: temperature, dtype: float64\n",
      "0.2536564027207642\n"
     ]
    },
    {
     "data": {
      "image/png": "[encoded data removed]",
      "text/plain": [
       "<Figure size 432x288 with 1 Axes>"
      ]
     },
     "metadata": {},
     "output_type": "display_data"
    }
   ],
   "source": [
    "print(df['temperature'].loc[df['gender'] == 'M'].describe())\n",
    "print(df['temperature'].loc[df['gender'] == 'F'].describe())\n",
    "corr=pearson_r(temperature, heart_rate)\n",
    "print(corr)\n",
    "\n",
    "# it seems like the temperature distrubution is independent to gender and heart rate\n",
    "# no, the data is not large enough, we can use permutation method to simulate more data and it will be done next problem!\n",
    "\n",
    "_=plt.plot(temperature, heart_rate, marker='.', linestyle='none')\n",
    "_=plt.xlabel('temperature')\n",
    "_=plt.ylabel('heart rate')\n",
    "plt.show()"
   ]
  },
  {
   "cell_type": "code",
   "execution_count": 70,
   "metadata": {},
   "outputs": [
    {
     "name": "stdout",
     "output_type": "stream",
     "text": [
      "98.2485716153846\n",
      "p-value is 0.0\n"
     ]
    }
   ],
   "source": [
    "# we use one sample hypothesis test because we are only given one sample\n",
    "# z-test is preferable in this case\n",
    "# because we are given population mean of 98.6F \n",
    "# if we only know sample mean, t-test works better\n",
    "# first, we will set up bootstrap replicates by the function we already wrote up\n",
    "\n",
    "bs_temp_mean = draw_bs_reps(temperature, np.mean, 10000).mean() # we permuate the data set 10000 times and many more times\n",
    "                                                                # we keep getting mean around 98.25 from this data set\n",
    "                                                                # it's actually quite different from the pop. mean of 98.6\n",
    "print(bs_temp_mean)\n",
    "\n",
    "# next, we will try using one sample hypothesis test\n",
    "# H_0: 98.6F is the actual mean of the sample\n",
    "# H_a: alternative hypothesis that 98.6 is not the mean of the sample\n",
    "\n",
    "translated_temp = temperature - np.mean(temperature) + 98.6\n",
    "bs_replicates = draw_bs_reps(translated_temp, np.mean, 10000)\n",
    "p = np.sum(bs_replicates <= np.mean(temperature))/len(bs_replicates)\n",
    "print('p-value is', p)\n",
    "\n",
    "# we reject the hypothesis\n",
    "# the p value in this case is even 0 so this sample cannot represent the population mean\n",
    "# after doing other tests, we keep getting the similar results\n",
    "# i testes many different population means, the most likely mean sample mean for this data is 98.3 with high a p-value"
   ]
  },
  {
   "cell_type": "code",
   "execution_count": 79,
   "metadata": {},
   "outputs": [
    {
     "name": "stdout",
     "output_type": "stream",
     "text": [
      "98.84 0.8499411744350336\n",
      "98.24923076923078\n"
     ]
    }
   ],
   "source": [
    "# before we do z- and t- test, we decided that the confidence interval, alpha, is 0.05\n",
    "# now, let's randomly draw 10 data from temperature column\n",
    "sample_10 = np.random.choice(temperature, size=10)\n",
    "print(sample_10.mean(), sample_10.std())\n",
    "print(np.mean(temperature))\n",
    "# because we chose alpha to be 0.05 if the z-score is out of (-1.96, 1.96) so reject this hypothesis\n",
    "\n",
    "# we won't be able to do t-test, because we only have one sample"
   ]
  },
  {
   "cell_type": "code",
   "execution_count": 94,
   "metadata": {},
   "outputs": [
    {
     "name": "stdout",
     "output_type": "stream",
     "text": [
      "[ 96.3995 100.004 ]\n",
      "any temperature out of [ 96.3995 100.004 ] is considered an outlier of this data set\n"
     ]
    }
   ],
   "source": [
    "# to find extreme outliers of temperature find 99% confidence interval \n",
    "resampled_temp = np.random.choice(temperature, size = 1000)\n",
    "conf_int = np.percentile(resampled_temp, [0.5, 99.5])\n",
    "print(conf_int)\n",
    "print('any temperature out of', conf_int, 'is considered an outlier of this data set')"
   ]
  },
  {
   "cell_type": "code",
   "execution_count": 106,
   "metadata": {},
   "outputs": [
    {
     "data": {
      "image/png": "[encoded data removed]",
      "text/plain": [
       "<Figure size 432x288 with 1 Axes>"
      ]
     },
     "metadata": {},
     "output_type": "display_data"
    }
   ],
   "source": [
    "female = np.array(df['temperature'].loc[df['gender'] == 'F'])\n",
    "male = np.array(df['temperature'].loc[df['gender'] == 'M'])\n",
    "\n",
    "x_f, y_f = ecdf(female)\n",
    "x_m, y_m = ecdf(male)\n",
    "\n",
    "_=plt.plot(x_f, y_f, marker='.', linestyle='none', color='red')\n",
    "_=plt.plot(x_m, y_m, marker='.', linestyle='none', color='blue')\n",
    "_=plt.xlabel('temperature')\n",
    "_=plt.ylabel('CDF')\n",
    "\n",
    "plt.show()\n",
    "\n",
    "#yes, there is a significant difference between men and women body temperature"
   ]
  },
  {
   "cell_type": "code",
   "execution_count": null,
   "metadata": {},
   "outputs": [],
   "source": []
  },
  {
   "cell_type": "code",
   "execution_count": null,
   "metadata": {},
   "outputs": [],
   "source": []
  }
 ],
 "metadata": {
  "kernelspec": {
   "display_name": "Python 3",
   "language": "python",
   "name": "python3"
  },
  "language_info": {
   "codemirror_mode": {
    "name": "ipython",
    "version": 3
   },
   "file_extension": ".py",
   "mimetype": "text/x-python",
   "name": "python",
   "nbconvert_exporter": "python",
   "pygments_lexer": "ipython3",
   "version": "3.6.5"
  }
 },
 "nbformat": 4,
 "nbformat_minor": 1
}
